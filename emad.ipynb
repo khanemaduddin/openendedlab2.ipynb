{
 "cells": [
  {
   "cell_type": "code",
   "execution_count": null,
   "metadata": {},
   "outputs": [],
   "source": [
    "def matchPattern(p: str, t: str) -> bool:\n",
    "    \n",
    "    elements = t.split()\n",
    "\n",
    "    # check the mismatching of elements\n",
    "    if len(p) != len(elements):\n",
    "        return False\n",
    "    \n",
    "    # Dictionaries to store mappings in both direction\n",
    "    forward_map = {}\n",
    "    reverse_map = {}\n",
    "\n",
    "    # Loop the pattern and same lafz\n",
    "    for char, lafz in zip(p, elements):\n",
    "        # Check if the current character in pattern already has a same lafz\n",
    "        if char in forward_map:\n",
    "            if forward_map[char] != lafz:  # a mismatch found\n",
    "                return False\n",
    "        else:\n",
    "            forward_map[char] = lafz  # Create new character to lafz mapping\n",
    "\n",
    "        # Check that lafz already has pattern character\n",
    "        if lafz in reverse_map:\n",
    "            if reverse_map[lafz] != char: \n",
    "                return False\n",
    "        else:\n",
    "            reverse_map[lafz] = char  \n",
    "\n",
    "    \n",
    "    return True\n",
    "\n",
    "#checking\n",
    "print(matchPattern(\"abba\", \"dog cat cat dog\"))  \n",
    "print(matchPattern(\"abba\", \"dog cat cat fish\"))  \n",
    "print(matchPattern(\"aaaa\", \"dog cat cat dog\"))\n",
    "print(matchPattern(\"baaa\", \"dog cat cat dog\"))\n",
    "print(matchPattern(\"aaba\", \"dog cat cat dog\"))\n"
   ]
  }
 ],
 "metadata": {
  "language_info": {
   "name": "python"
  }
 },
 "nbformat": 4,
 "nbformat_minor": 2
}
