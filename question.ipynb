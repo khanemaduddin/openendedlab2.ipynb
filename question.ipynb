{
 "cells": [
  {
   "cell_type": "code",
   "execution_count": null,
   "metadata": {},
   "outputs": [],
   "source": [
    "Open-Ended Lab Task 2:\n",
    "Objective:\n",
    "Given a pattern and a string s, find if s follows the same pattern.\n",
    "Here follow means a full match, such that there is a bijection between a letter in pattern and a non-empty word in s. Specifically:\n",
    "Each letter in pattern maps to exactly one unique word in s.\n",
    "Each unique word in s maps to exactly one letter in pattern.\n",
    "No two letters map to the same word, and no two words map to the same letter.\n",
    "\n",
    "Submission Requirements:\n",
    "Submit the program code along with comments explaining key sections of your implementation.\n",
    "Optional: Submit screenshots of sample outputs or visualizations if implemented.\n",
    "\n",
    "Examples:\n",
    "Example 1:\n",
    "Input: pattern = \"abba\", s = \"dog cat cat dog\"\n",
    "Output: true\n",
    "Explanation:\n",
    "The bijection can be established as:\n",
    "'a' maps to \"dog\".\n",
    "'b' maps to \"cat\".\n",
    "Example 2:\n",
    "Input: pattern = \"abba\", s = \"dog cat cat fish\"\n",
    "Output: false\n",
    "Example 3:\n",
    "Input: pattern = \"aaaa\", s = \"dog cat cat dog\"\n",
    "Output: false\n",
    "\n"
   ]
  }
 ],
 "metadata": {
  "language_info": {
   "name": "python"
  }
 },
 "nbformat": 4,
 "nbformat_minor": 2
}
